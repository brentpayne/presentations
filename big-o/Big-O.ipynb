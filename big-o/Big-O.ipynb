{
 "metadata": {
  "name": ""
 },
 "nbformat": 3,
 "nbformat_minor": 0,
 "worksheets": [
  {
   "cells": [
    {
     "cell_type": "heading",
     "level": 1,
     "metadata": {},
     "source": [
      "Big O notation"
     ]
    },
    {
     "cell_type": "markdown",
     "metadata": {},
     "source": [
      "Big O notation, pronounced \"Big Oh\", is the vanacular name for a theoritical measurement of time or space complexity of an algorithm. It comes from a mathematical comcept relating functions.  Big O notation is written using the uppercase o surrounds a function, O(f(x)).  O(f(x)) defines the set of all functions that f(x) is larger than."
     ]
    },
    {
     "cell_type": "heading",
     "level": 3,
     "metadata": {},
     "source": [
      "Formal Definition:"
     ]
    },
    {
     "cell_type": "markdown",
     "metadata": {},
     "source": [
      "$f(x) \\in O(g(x)) $   \n",
      "if and only if:    \n",
      "$\\exists c \\in \\mathbb{R}_{>0}, x_0 $\n",
      " \n",
      "such that:    \n",
      "$f(x) < c*g(x), \\\\\n",
      "c>0, \\\\\n",
      "\\forall x \\gt x_0, \\\\\n",
      "$"
     ]
    },
    {
     "cell_type": "markdown",
     "metadata": {},
     "source": [
      "What this means is that for $f(x)$ to be $O(g(x))$. There must be some constant $c$ such that $c*g(x) > f(x)$ from some point $x_0$ to $\\infty$ "
     ]
    },
    {
     "cell_type": "heading",
     "level": 4,
     "metadata": {},
     "source": [
      "Examples:"
     ]
    },
    {
     "cell_type": "code",
     "collapsed": false,
     "input": [
      "#imports and setup\n",
      "import time\n",
      "import numpy as np\n",
      "from bokeh.plotting import *\n",
      "from bokeh.objects import Glyph, Range1d\n",
      "output_notebook(url=\"default\")"
     ],
     "language": "python",
     "metadata": {},
     "outputs": [
      {
       "output_type": "stream",
       "stream": "stdout",
       "text": [
        "found config for http://localhost:5006/\n",
        "{}\n",
        "loading it!\n",
        "if you don't wish to load this config, please pass load_from_config=False\n"
       ]
      },
      {
       "html": [
        "<p>Connecting notebook to document \"IPython Session at Fri May 23 13:58:19 2014\" at server http://localhost:5006/</p>"
       ],
       "metadata": {},
       "output_type": "display_data"
      }
     ],
     "prompt_number": 108
    },
    {
     "cell_type": "markdown",
     "metadata": {},
     "source": [
      "$x + 5 \\in O(x)$  because $2*x \\gt x+5$ from $x = (5...\\infty)$"
     ]
    },
    {
     "cell_type": "code",
     "collapsed": false,
     "input": [
      "x = np.linspace(0,10,100)\n",
      "y_1 = x + 5\n",
      "y_2 = 2*x\n",
      "hold()\n",
      "figure()\n",
      "line(x, y_1, color=\"#BD1550\", line_width=2,\n",
      "     legend=\"x + 5\", title=\"x+5 in O(x)\",\n",
      "     x_range=Range1d(start=2, end=9))\n",
      "line(x, y_2, line_width=2,\n",
      "     legend=\"2*x\")\n",
      "show()\n"
     ],
     "language": "python",
     "metadata": {},
     "outputs": [
      {
       "html": [
        "<script src=\"http://localhost:5006//bokeh/embed.js\" bokeh_plottype=\"serverconn\"\n",
        "        bokeh_docid=\"b1793c0d-9af3-4ac6-aa89-7b84d90aea40\" bokeh_ws_conn_string=\"ws://localhost:5006/bokeh/sub\"\n",
        "        bokeh_docapikey=\"b1ac9218-dbdb-4540-a800-2001d3708d23\" bokeh_root_url=\"http://localhost:5006/\"\n",
        "        bokeh_modelid=\"51c3131a-7dda-41f8-9d93-986dbc87f2d4\" bokeh_modeltype=\"Plot\" async=\"true\"></script>\n",
        "        "
       ],
       "metadata": {},
       "output_type": "display_data"
      }
     ],
     "prompt_number": 63
    },
    {
     "cell_type": "markdown",
     "metadata": {},
     "source": [
      "$x + 5 \\in O(x^2)$"
     ]
    },
    {
     "cell_type": "code",
     "collapsed": false,
     "input": [
      "x = np.linspace(0,10,100)\n",
      "y_1 = x + 5\n",
      "y_2 = x**2\n",
      "hold()\n",
      "figure()\n",
      "line(x, y_1, color=\"#BD1550\", line_width=2,\n",
      "     legend=\"x + 5\", title=\"x+5 in O(x^2)\",\n",
      "     x_range=Range1d(start=0, end=6), y_range=Range1d(start=0, end=25))\n",
      "line(x, y_2, line_width=2,\n",
      "     legend=\"x^2\")\n",
      "show()"
     ],
     "language": "python",
     "metadata": {},
     "outputs": [
      {
       "html": [
        "<script src=\"http://localhost:5006//bokeh/embed.js\" bokeh_plottype=\"serverconn\"\n",
        "        bokeh_docid=\"b1793c0d-9af3-4ac6-aa89-7b84d90aea40\" bokeh_ws_conn_string=\"ws://localhost:5006/bokeh/sub\"\n",
        "        bokeh_docapikey=\"b1ac9218-dbdb-4540-a800-2001d3708d23\" bokeh_root_url=\"http://localhost:5006/\"\n",
        "        bokeh_modelid=\"ed7d6734-3f18-4ab1-8ad4-0f51c84487c1\" bokeh_modeltype=\"Plot\" async=\"true\"></script>\n",
        "        "
       ],
       "metadata": {},
       "output_type": "display_data"
      }
     ],
     "prompt_number": 64
    },
    {
     "cell_type": "markdown",
     "metadata": {},
     "source": [
      "$x + 5 \\notin O(log(x))$"
     ]
    },
    {
     "cell_type": "code",
     "collapsed": false,
     "input": [
      "x = np.linspace(0,20,100)\n",
      "y_1 = x + 5\n",
      "y_2 = 7*np.log(x)\n",
      "hold()\n",
      "figure()\n",
      "line(x, y_1, color=\"#BD1550\", line_width=2,\n",
      "     legend=\"x + 5\", title=\"x+5 not in O(log(x))\")\n",
      "line(x, y_2, line_width=2,\n",
      "     legend=\"log(x)\")\n",
      "show()"
     ],
     "language": "python",
     "metadata": {},
     "outputs": [
      {
       "html": [
        "<script src=\"http://localhost:5006//bokeh/embed.js\" bokeh_plottype=\"serverconn\"\n",
        "        bokeh_docid=\"b1793c0d-9af3-4ac6-aa89-7b84d90aea40\" bokeh_ws_conn_string=\"ws://localhost:5006/bokeh/sub\"\n",
        "        bokeh_docapikey=\"b1ac9218-dbdb-4540-a800-2001d3708d23\" bokeh_root_url=\"http://localhost:5006/\"\n",
        "        bokeh_modelid=\"186d3445-b91b-49af-9e40-4c9c178b053d\" bokeh_modeltype=\"Plot\" async=\"true\"></script>\n",
        "        "
       ],
       "metadata": {},
       "output_type": "display_data"
      }
     ],
     "prompt_number": 65
    },
    {
     "cell_type": "markdown",
     "metadata": {},
     "source": [
      "It is best practice to list the smallest O family that a function belongs in.  It is also more common to see the O notations applied to the funciton in questions and setup as an equivalence statement rather than a member ship.  All the below statements are true.\n",
      "\n",
      "* $O(5x^3 + x^2 + x*log(7x) + x + 15) \\in O(x^{100})$\n",
      "* $O(5x^3 + x^2 + x*log(7x) + x + 15) = O(5x^3 + x^2 + x log(7x) + x)$\n",
      "* $O(5x^3 + x^2 + x*log(7x) + x + 15) = O(5x^3 + x^2 + x log(7x))$\n",
      "* $O(5x^3 + x^2 + x*log(7x) + x + 15) = O(5x^3 + x^2)$\n",
      "* $O(5x^3 + x^2 + x*log(7x) + x + 15) = O(5x^3)$\n",
      "* $O(5x^3 + x^2 + x*log(7x) + x + 15) = O(x^3)$\n"
     ]
    },
    {
     "cell_type": "code",
     "collapsed": false,
     "input": [
      "import time\n",
      "\n",
      "x = np.linspace(0,10,1000)\n",
      "y = 5 * np.power(x,3) + np.power(x,2) + x * np.log(x) + 15\n",
      "y2 = x**3\n",
      "c = 1\n",
      "\n",
      "hold()\n",
      "figure()\n",
      "colors = [\"#{d}7{d}7E9\".format(d=i) for i in xrange(10)]\n",
      "line(x,y2, legend=\"c*x^3\", color=colors[0])\n",
      "renderer = [r for r in curplot().renderers if isinstance(r, Glyph)][0]\n",
      "data_source = renderer.data_source\n",
      "first_line_data = data_source.data\n",
      "line(x,y, color=\"red\", legend=\"5x^3 + x^2 + x log(x) + 15\")\n",
      "show()\n",
      "time.sleep(1)\n",
      "for i, c in enumerate(xrange(1, 8)):\n",
      "    #first_line_data['y'] = c*np.power(x,3)\n",
      "    session().add_plot(line(x, c*np.power(x,3), color=colors[i], legend=\"{c}x^3\".format(c=c)))\n",
      "    #curplot().title = \"C = {c}\".format(c=c)\n",
      "    #data_source._dirty = True\n",
      "    #session().store_obj(data_source)\n",
      "    time.sleep(1)"
     ],
     "language": "python",
     "metadata": {},
     "outputs": [
      {
       "html": [
        "<script src=\"http://localhost:5006//bokeh/embed.js\" bokeh_plottype=\"serverconn\"\n",
        "        bokeh_docid=\"fb23091d-a787-4261-a770-72b729302f11\" bokeh_ws_conn_string=\"ws://localhost:5006/bokeh/sub\"\n",
        "        bokeh_docapikey=\"997e8678-f306-4243-9a38-af7d30391f58\" bokeh_root_url=\"http://localhost:5006/\"\n",
        "        bokeh_modelid=\"d703f110-d421-43f9-af42-edf7d93e7917\" bokeh_modeltype=\"Plot\" async=\"true\"></script>\n",
        "        "
       ],
       "metadata": {},
       "output_type": "display_data"
      }
     ],
     "prompt_number": 111
    },
    {
     "cell_type": "heading",
     "level": 2,
     "metadata": {},
     "source": [
      "Applying this to code time complexity"
     ]
    },
    {
     "cell_type": "markdown",
     "metadata": {},
     "source": [
      "computer scientists apply this to the time complexity of code by looking at the number of operations that are run by an algorithm given different inputs"
     ]
    },
    {
     "cell_type": "code",
     "collapsed": false,
     "input": [
      "# Example 1\n",
      "\n",
      "def function1(n):\n",
      "    n_halved = n / 2\n",
      "    n_tripled = 3 * n\n",
      "    n_n = n ** 2\n",
      "    "
     ],
     "language": "python",
     "metadata": {},
     "outputs": [],
     "prompt_number": 66
    },
    {
     "cell_type": "code",
     "collapsed": false,
     "input": [
      "%timeit function1(5)"
     ],
     "language": "python",
     "metadata": {},
     "outputs": [
      {
       "output_type": "stream",
       "stream": "stdout",
       "text": [
        "1000000 loops, best of 3: 374 ns per loop\n"
       ]
      }
     ],
     "prompt_number": 67
    },
    {
     "cell_type": "code",
     "collapsed": false,
     "input": [
      "%timeit function1(1000)"
     ],
     "language": "python",
     "metadata": {},
     "outputs": [
      {
       "output_type": "stream",
       "stream": "stdout",
       "text": [
        "1000000 loops, best of 3: 367 ns per loop\n"
       ]
      }
     ],
     "prompt_number": 68
    },
    {
     "cell_type": "markdown",
     "metadata": {},
     "source": [
      "Function 1 is in O(1)"
     ]
    },
    {
     "cell_type": "code",
     "collapsed": false,
     "input": [
      "# Example 2\n",
      "\n",
      "def function2a(n):\n",
      "    v = 0\n",
      "    for i in xrange(n+1):\n",
      "        v = v + i\n",
      "    return v\n",
      "\n",
      "def function2b(n):\n",
      "    return (n * (n+1))/2\n",
      "\n",
      "print [function2a(i) for i in xrange(5)] \n",
      "print [function2b(i) for i in xrange(5)] "
     ],
     "language": "python",
     "metadata": {},
     "outputs": [
      {
       "output_type": "stream",
       "stream": "stdout",
       "text": [
        "[0, 1, 3, 6, 10]\n",
        "[0, 1, 3, 6, 10]\n"
       ]
      }
     ],
     "prompt_number": 69
    },
    {
     "cell_type": "code",
     "collapsed": false,
     "input": [
      "%timeit function2a(10)\n",
      "%timeit function2a(100)\n",
      "%timeit function2a(200)\n",
      "%timeit function2a(300)\n",
      "%timeit function2b(10)\n",
      "%timeit function2b(100)\n",
      "%timeit function2b(200)\n",
      "%timeit function2b(300)"
     ],
     "language": "python",
     "metadata": {},
     "outputs": [
      {
       "output_type": "stream",
       "stream": "stdout",
       "text": [
        "1000000 loops, best of 3: 1.05 \u00b5s per loop\n",
        "100000 loops, best of 3: 6.11 \u00b5s per loop"
       ]
      },
      {
       "output_type": "stream",
       "stream": "stdout",
       "text": [
        "\n",
        "100000 loops, best of 3: 11.9 \u00b5s per loop"
       ]
      },
      {
       "output_type": "stream",
       "stream": "stdout",
       "text": [
        "\n",
        "100000 loops, best of 3: 17.4 \u00b5s per loop"
       ]
      },
      {
       "output_type": "stream",
       "stream": "stdout",
       "text": [
        "\n",
        "1000000 loops, best of 3: 226 ns per loop"
       ]
      },
      {
       "output_type": "stream",
       "stream": "stdout",
       "text": [
        "\n",
        "1000000 loops, best of 3: 242 ns per loop"
       ]
      },
      {
       "output_type": "stream",
       "stream": "stdout",
       "text": [
        "\n",
        "1000000 loops, best of 3: 238 ns per loop"
       ]
      },
      {
       "output_type": "stream",
       "stream": "stdout",
       "text": [
        "\n",
        "1000000 loops, best of 3: 234 ns per loop"
       ]
      },
      {
       "output_type": "stream",
       "stream": "stdout",
       "text": [
        "\n"
       ]
      }
     ],
     "prompt_number": 70
    },
    {
     "cell_type": "markdown",
     "metadata": {},
     "source": [
      "function2a is in O(n)\n",
      "function2b is in O(1)"
     ]
    },
    {
     "cell_type": "code",
     "collapsed": false,
     "input": [
      "from timeit import repeat\n",
      "hold()\n",
      "figure()\n",
      "n = [100,200,300]\n",
      "y_1 = [min(repeat(\"function2a({n})\".format(n=i), setup=\"from __main__ import function2a\", repeat=3, number=10000)) for i in n]\n",
      "y_2 = [min(repeat(\"function2b({n})\".format(n=i), setup=\"from __main__ import function2b\", repeat=3, number=1000)) for i in n]\n",
      "line(n, y_1, color=\"#BD1550\", line_width=2, legend=\"function2a\", title=\"time plots\")\n",
      "line(n, y_2, line_width=2, legend=\"function2b\")\n",
      "xaxis().axis_label = \"N\"\n",
      "yaxis().axis_label = \"seconds\"\n",
      "show()"
     ],
     "language": "python",
     "metadata": {},
     "outputs": [
      {
       "html": [
        "<script src=\"http://localhost:5006//bokeh/embed.js\" bokeh_plottype=\"serverconn\"\n",
        "        bokeh_docid=\"b1793c0d-9af3-4ac6-aa89-7b84d90aea40\" bokeh_ws_conn_string=\"ws://localhost:5006/bokeh/sub\"\n",
        "        bokeh_docapikey=\"b1ac9218-dbdb-4540-a800-2001d3708d23\" bokeh_root_url=\"http://localhost:5006/\"\n",
        "        bokeh_modelid=\"388ac13c-a570-46d7-a050-bb0ce2f56d94\" bokeh_modeltype=\"Plot\" async=\"true\"></script>\n",
        "        "
       ],
       "metadata": {},
       "output_type": "display_data"
      }
     ],
     "prompt_number": 71
    },
    {
     "cell_type": "heading",
     "level": 2,
     "metadata": {},
     "source": [
      "Actual or average time is not the same as worst time"
     ]
    },
    {
     "cell_type": "code",
     "collapsed": false,
     "input": [
      "def search_unsorted_list(the_list, search_value):\n",
      "    for item in the_list:\n",
      "        if item == search_value:\n",
      "            return True\n",
      "    return False\n",
      "\n",
      "def search_unsorted_dictionary(the_dictionary, search_value):\n",
      "    return search_value in the_dictionary"
     ],
     "language": "python",
     "metadata": {},
     "outputs": [],
     "prompt_number": 73
    },
    {
     "cell_type": "code",
     "collapsed": false,
     "input": [
      "#average runtime\n",
      "from timeit import timeit\n",
      "from numpy.random import randint\n",
      "hold()\n",
      "figure()\n",
      "y_1 = [timeit(\"search_unsorted_list({n}, {v})\".format(n=list(randint(2*i, size=i)), v=1),\n",
      "                  setup=\"from __main__ import search_unsorted_list\", number=10000) for i in n]\n",
      "y_2 = [timeit(\"search_unsorted_list({n}, {v})\".format(n={num:1 for num in xrange(1,i+1)}, v=1),\n",
      "              setup=\"from __main__ import search_unsorted_list\", number=1000) for i in n]\n",
      "\n",
      "line(n, y_1, color=\"#BD1550\", line_width=2, legend=\"search list\", title=\"time plot of searching data structures\")\n",
      "line(n, y_2, line_width=2, legend=\"search dictionary\")\n",
      "xaxis().axis_label = \"N\"\n",
      "yaxis().axis_label = \"seconds\"\n",
      "show()"
     ],
     "language": "python",
     "metadata": {},
     "outputs": [
      {
       "html": [
        "<script src=\"http://localhost:5006//bokeh/embed.js\" bokeh_plottype=\"serverconn\"\n",
        "        bokeh_docid=\"b1793c0d-9af3-4ac6-aa89-7b84d90aea40\" bokeh_ws_conn_string=\"ws://localhost:5006/bokeh/sub\"\n",
        "        bokeh_docapikey=\"b1ac9218-dbdb-4540-a800-2001d3708d23\" bokeh_root_url=\"http://localhost:5006/\"\n",
        "        bokeh_modelid=\"d4fa82c5-f598-4358-b6e8-9823508686e5\" bokeh_modeltype=\"Plot\" async=\"true\"></script>\n",
        "        "
       ],
       "metadata": {},
       "output_type": "display_data"
      }
     ],
     "prompt_number": 80
    },
    {
     "cell_type": "heading",
     "level": 4,
     "metadata": {},
     "source": [
      "What is the Big-O of the two search methods?"
     ]
    },
    {
     "cell_type": "markdown",
     "metadata": {},
     "source": [
      "* *`search_unsorted_list`* : **O(??)**\n",
      "* *`search_unsorted_dictionary`* : **O(??)**\n",
      "\n",
      "To The whiteboard"
     ]
    },
    {
     "cell_type": "markdown",
     "metadata": {},
     "source": [
      "When someone says the average search of a dictionary is O(1):\n",
      "\n",
      "* They do not mean that O(dictionary.search) = O(1).\n",
      "* They mean $O( average_{\\forall{N}}(dictionary_{N}.search) )= O(1)$"
     ]
    },
    {
     "cell_type": "heading",
     "level": 2,
     "metadata": {},
     "source": [
      "Common Algorithms with different time complexities"
     ]
    },
    {
     "cell_type": "code",
     "collapsed": false,
     "input": [
      "def bubble_sort(the_list):\n",
      "    for already_sorted_index in len(the_list):\n",
      "        for index_to_compare in range(len(the_list)-1, already_sorted_index, -1):\n",
      "            if(the_list[index_to_compare] < the_list[index_to_compare - 1]):\n",
      "                tmp = the_list[index_to_compare - 1]\n",
      "                the_list[index_to_compare - 1] = the_list[index_to_compare]\n",
      "                the_list[index_to_compare] = tmp"
     ],
     "language": "python",
     "metadata": {},
     "outputs": [],
     "prompt_number": 81
    },
    {
     "cell_type": "markdown",
     "metadata": {},
     "source": [
      " **O(bubble_sort) = O(n^2)** "
     ]
    },
    {
     "cell_type": "markdown",
     "metadata": {},
     "source": [
      "** O(bubble_sort) = O(n^3) ** If the_list was a dictionary"
     ]
    },
    {
     "cell_type": "markdown",
     "metadata": {},
     "source": [
      "*"
     ]
    },
    {
     "cell_type": "markdown",
     "metadata": {},
     "source": [
      "*"
     ]
    },
    {
     "cell_type": "markdown",
     "metadata": {},
     "source": [
      "*\n"
     ]
    },
    {
     "cell_type": "markdown",
     "metadata": {},
     "source": [
      "*"
     ]
    },
    {
     "cell_type": "markdown",
     "metadata": {},
     "source": [
      "* "
     ]
    },
    {
     "cell_type": "code",
     "collapsed": false,
     "input": [
      "def binary_search(the_sorted_list, search_value):\n",
      "    min = 0\n",
      "    max = len(the_sorted_list) - 1\n",
      "    while True:\n",
      "        if max < min:\n",
      "            return -1\n",
      "        middle_position = (min + max) // 2  # the // operator is floor divide\n",
      "        if the_sorted_list[middle_position] < search_value:\n",
      "            min = middle_position + 1\n",
      "        elif the_sorted_list[middle_position] > search_value:\n",
      "            max = middle_position - 1\n",
      "        else:\n",
      "            return middle_position"
     ],
     "language": "python",
     "metadata": {},
     "outputs": [],
     "prompt_number": 82
    },
    {
     "cell_type": "markdown",
     "metadata": {},
     "source": [
      "** O(binary_search) = $O(log_2(n))$**"
     ]
    },
    {
     "cell_type": "markdown",
     "metadata": {},
     "source": [
      "*"
     ]
    },
    {
     "cell_type": "markdown",
     "metadata": {},
     "source": [
      "*"
     ]
    },
    {
     "cell_type": "markdown",
     "metadata": {},
     "source": [
      "* "
     ]
    },
    {
     "cell_type": "markdown",
     "metadata": {},
     "source": [
      "*"
     ]
    },
    {
     "cell_type": "markdown",
     "metadata": {},
     "source": [
      "*"
     ]
    },
    {
     "cell_type": "markdown",
     "metadata": {},
     "source": [
      "<img src=\"http://upload.wikimedia.org/wikipedia/commons/thumb/0/06/AVLtreef.svg/251px-AVLtreef.svg.png\"></img> <img src=\"http://s3.amazonaws.com/lyah/binarytree.png\"></img> <img src=\"http://www.leda-tutorial.org/en/official/Pictures/BinarySearchTree.png\"></img><img src=\"http://1.bp.blogspot.com/-Y8DihvLIiLM/UJak6Io1flI/AAAAAAAAAsI/88SbtX_EW6Q/s1600/binarySearchTree.png\"></img>"
     ]
    },
    {
     "cell_type": "code",
     "collapsed": false,
     "input": [
      "def bubble_sort_then_search(the_list, the_search):\n",
      "    bubble_sort(the_list)\n",
      "    return binary_search(the_list, the_search)"
     ],
     "language": "python",
     "metadata": {},
     "outputs": [],
     "prompt_number": 112
    },
    {
     "cell_type": "markdown",
     "metadata": {},
     "source": [
      "**O(bubble_sort_then_search) = O(bubble_sort + binary_search) = O($n^2 + log_2(n)$) = O(n^2) **"
     ]
    },
    {
     "cell_type": "code",
     "collapsed": false,
     "input": [],
     "language": "python",
     "metadata": {},
     "outputs": [],
     "prompt_number": 90
    },
    {
     "cell_type": "code",
     "collapsed": false,
     "input": [],
     "language": "python",
     "metadata": {},
     "outputs": []
    }
   ],
   "metadata": {}
  }
 ]
}